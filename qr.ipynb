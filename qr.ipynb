{
 "cells": [
  {
   "cell_type": "code",
   "execution_count": 36,
   "outputs": [],
   "source": [
    "import numpy as np\n",
    "def mat_round(M):\n",
    "    for i in range(len(M)):\n",
    "        for j in range(len(M[i])):\n",
    "            M[i][j] = round(M[i][j], 5)\n",
    "\n",
    "def getQ(M):\n",
    "    Q = []\n",
    "    M = np.transpose(M)\n",
    "\n",
    "    for i in range(len(M)):\n",
    "        v = np.copy(M[i])\n",
    "        for j in range(i):\n",
    "            v -= (np.dot(M[i], Q[j]) / np.dot(Q[j], Q[j])) * Q[j]\n",
    "        Q.append(v)\n",
    "\n",
    "    Q = np.array(list(map(lambda v: v / sum(v**2)**0.5, Q)))\n",
    "    Q = Q.transpose()\n",
    "\n",
    "    return Q\n",
    "\n",
    "def getR(M, Q):\n",
    "    Q_t = np.transpose(Q)\n",
    "    return np.matmul(Q_t, M)"
   ],
   "metadata": {
    "collapsed": false,
    "pycharm": {
     "name": "#%%\n"
    }
   }
  },
  {
   "cell_type": "code",
   "execution_count": 37,
   "outputs": [],
   "source": [
    "A = np.array([\n",
    "    [4, 2],\n",
    "    [2, 0],\n",
    "    [0, 3]\n",
    "], dtype=float)\n"
   ],
   "metadata": {
    "collapsed": false,
    "pycharm": {
     "name": "#%%\n"
    }
   }
  },
  {
   "cell_type": "code",
   "execution_count": 38,
   "outputs": [
    {
     "name": "stdout",
     "output_type": "stream",
     "text": [
      "\n",
      "Q:\n",
      " [[ 0.89443  0.12778]\n",
      " [ 0.44721 -0.25555]\n",
      " [ 0.       0.95831]]\n",
      "\n",
      "R:\n",
      " [[ 4.47214  1.78885]\n",
      " [-0.       3.1305 ]]\n"
     ]
    }
   ],
   "source": [
    "Q = getQ(A)\n",
    "R = getR(A, Q)\n",
    "\n",
    "mat_round(Q)\n",
    "mat_round(R)\n",
    "\n",
    "print(\"\\nQ:\\n\", Q)\n",
    "print(\"\\nR:\\n\", R)"
   ],
   "metadata": {
    "collapsed": false,
    "pycharm": {
     "name": "#%%\n"
    }
   }
  }
 ],
 "metadata": {
  "kernelspec": {
   "display_name": "Python 3 (ipykernel)",
   "language": "python",
   "name": "python3"
  },
  "language_info": {
   "codemirror_mode": {
    "name": "ipython",
    "version": 3
   },
   "file_extension": ".py",
   "mimetype": "text/x-python",
   "name": "python",
   "nbconvert_exporter": "python",
   "pygments_lexer": "ipython3",
   "version": "3.9.2"
  }
 },
 "nbformat": 4,
 "nbformat_minor": 1
}